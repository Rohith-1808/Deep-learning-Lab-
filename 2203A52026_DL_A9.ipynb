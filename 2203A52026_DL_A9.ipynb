{
  "nbformat": 4,
  "nbformat_minor": 0,
  "metadata": {
    "colab": {
      "provenance": [],
      "gpuType": "T4",
      "include_colab_link": true
    },
    "kernelspec": {
      "name": "python3",
      "display_name": "Python 3"
    },
    "language_info": {
      "name": "python"
    },
    "accelerator": "GPU"
  },
  "cells": [
    {
      "cell_type": "markdown",
      "metadata": {
        "id": "view-in-github",
        "colab_type": "text"
      },
      "source": [
        "<a href=\"https://colab.research.google.com/github/Rohith-1808/Deep-learning-Lab-/blob/main/2203A52026_DL_A9.ipynb\" target=\"_parent\"><img src=\"https://colab.research.google.com/assets/colab-badge.svg\" alt=\"Open In Colab\"/></a>"
      ]
    },
    {
      "cell_type": "code",
      "execution_count": 1,
      "metadata": {
        "id": "R48RIpoq2gOD"
      },
      "outputs": [],
      "source": [
        "# Import necessary libraries\n",
        "import numpy as np\n",
        "import tensorflow as tf\n",
        "from tensorflow.keras.datasets import mnist\n",
        "from tensorflow.keras.models import Sequential\n",
        "from tensorflow.keras.layers import Dense, Flatten\n",
        "from tensorflow.keras.utils import to_categorical"
      ]
    },
    {
      "cell_type": "code",
      "source": [
        "# Load MNIST dataset\n",
        "(x_train, y_train), (x_test, y_test) = mnist.load_data()"
      ],
      "metadata": {
        "id": "VedbOo7z3R9C",
        "colab": {
          "base_uri": "https://localhost:8080/"
        },
        "outputId": "97c7f27f-5a1a-4f06-8aff-5dde3a338911"
      },
      "execution_count": 2,
      "outputs": [
        {
          "output_type": "stream",
          "name": "stdout",
          "text": [
            "Downloading data from https://storage.googleapis.com/tensorflow/tf-keras-datasets/mnist.npz\n",
            "\u001b[1m11490434/11490434\u001b[0m \u001b[32m━━━━━━━━━━━━━━━━━━━━\u001b[0m\u001b[37m\u001b[0m \u001b[1m0s\u001b[0m 0us/step\n"
          ]
        }
      ]
    },
    {
      "cell_type": "code",
      "source": [
        "# Normalize the input data\n",
        "x_train = x_train.astype(\"float32\") / 255.0\n",
        "x_test = x_test.astype(\"float32\") / 255.0\n",
        "\n",
        "# One-hot encode the labels\n",
        "y_train = to_categorical(y_train, 10)\n",
        "y_test = to_categorical(y_test, 10)"
      ],
      "metadata": {
        "id": "BQUvldzi3T7O"
      },
      "execution_count": 3,
      "outputs": []
    },
    {
      "cell_type": "code",
      "source": [
        "# Define the ANN model (initial architecture)\n",
        "model = Sequential([\n",
        "    Flatten(input_shape=(28, 28)),\n",
        "    Dense(32, activation='relu'),\n",
        "    Dense(32, activation='relu'),\n",
        "    Dense(32, activation='relu'),\n",
        "    Dense(10, activation='softmax')\n",
        "])"
      ],
      "metadata": {
        "colab": {
          "base_uri": "https://localhost:8080/"
        },
        "id": "TZSv31IF3XX_",
        "outputId": "f01bb0bc-3931-417c-f3e5-49525324528b"
      },
      "execution_count": 4,
      "outputs": [
        {
          "output_type": "stream",
          "name": "stderr",
          "text": [
            "/usr/local/lib/python3.11/dist-packages/keras/src/layers/reshaping/flatten.py:37: UserWarning: Do not pass an `input_shape`/`input_dim` argument to a layer. When using Sequential models, prefer using an `Input(shape)` object as the first layer in the model instead.\n",
            "  super().__init__(**kwargs)\n"
          ]
        }
      ]
    },
    {
      "cell_type": "code",
      "source": [
        "# Compile the model\n",
        "model.compile(optimizer='adadelta',\n",
        "              loss='categorical_crossentropy',\n",
        "              metrics=['accuracy'])"
      ],
      "metadata": {
        "id": "oFoHZtGO3ZBS"
      },
      "execution_count": 5,
      "outputs": []
    },
    {
      "cell_type": "code",
      "source": [
        "# Train the model\n",
        "history = model.fit(x_train, y_train,\n",
        "                    epochs=10,\n",
        "                    batch_size=128,\n",
        "                    validation_data=(x_test, y_test),\n",
        "                    verbose=2)\n",
        "\n",
        "# Evaluate the model\n",
        "train_loss, train_acc = model.evaluate(x_train, y_train, verbose=0)\n",
        "test_loss, test_acc = model.evaluate(x_test, y_test, verbose=0)\n",
        "\n",
        "print(f\"Training Accuracy: {train_acc:.4f}\")\n",
        "print(f\"Testing Accuracy: {test_acc:.4f}\")"
      ],
      "metadata": {
        "colab": {
          "base_uri": "https://localhost:8080/"
        },
        "id": "qjWAd-bl3ciT",
        "outputId": "851e33c0-78c5-45ff-9005-49afeb02e448"
      },
      "execution_count": 6,
      "outputs": [
        {
          "output_type": "stream",
          "name": "stdout",
          "text": [
            "Epoch 1/10\n",
            "469/469 - 6s - 13ms/step - accuracy: 0.1036 - loss: 2.2923 - val_accuracy: 0.1144 - val_loss: 2.2869\n",
            "Epoch 2/10\n",
            "469/469 - 2s - 4ms/step - accuracy: 0.1201 - loss: 2.2830 - val_accuracy: 0.1326 - val_loss: 2.2772\n",
            "Epoch 3/10\n",
            "469/469 - 1s - 3ms/step - accuracy: 0.1390 - loss: 2.2736 - val_accuracy: 0.1525 - val_loss: 2.2674\n",
            "Epoch 4/10\n",
            "469/469 - 1s - 3ms/step - accuracy: 0.1595 - loss: 2.2639 - val_accuracy: 0.1744 - val_loss: 2.2572\n",
            "Epoch 5/10\n",
            "469/469 - 1s - 3ms/step - accuracy: 0.1823 - loss: 2.2537 - val_accuracy: 0.1956 - val_loss: 2.2466\n",
            "Epoch 6/10\n",
            "469/469 - 1s - 3ms/step - accuracy: 0.2035 - loss: 2.2430 - val_accuracy: 0.2189 - val_loss: 2.2352\n",
            "Epoch 7/10\n",
            "469/469 - 1s - 3ms/step - accuracy: 0.2264 - loss: 2.2314 - val_accuracy: 0.2414 - val_loss: 2.2230\n",
            "Epoch 8/10\n",
            "469/469 - 1s - 3ms/step - accuracy: 0.2495 - loss: 2.2189 - val_accuracy: 0.2622 - val_loss: 2.2100\n",
            "Epoch 9/10\n",
            "469/469 - 3s - 6ms/step - accuracy: 0.2717 - loss: 2.2057 - val_accuracy: 0.2831 - val_loss: 2.1960\n",
            "Epoch 10/10\n",
            "469/469 - 1s - 3ms/step - accuracy: 0.2923 - loss: 2.1915 - val_accuracy: 0.3018 - val_loss: 2.1811\n",
            "Training Accuracy: 0.3026\n",
            "Testing Accuracy: 0.3018\n"
          ]
        }
      ]
    }
  ]
}